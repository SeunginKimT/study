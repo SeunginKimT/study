{
  "nbformat": 4,
  "nbformat_minor": 0,
  "metadata": {
    "colab": {
      "provenance": []
    },
    "kernelspec": {
      "name": "python3",
      "display_name": "Python 3"
    },
    "language_info": {
      "name": "python"
    }
  },
  "cells": [
    {
      "cell_type": "code",
      "execution_count": null,
      "metadata": {
        "colab": {
          "base_uri": "https://localhost:8080/"
        },
        "id": "LjdjPQzFEdL5",
        "outputId": "2deacdcd-c254-4d16-96ad-aed811b89175"
      },
      "outputs": [
        {
          "output_type": "stream",
          "name": "stdout",
          "text": [
            "1\n",
            "2\n",
            "3\n",
            "4\n",
            "5\n"
          ]
        }
      ],
      "source": [
        "for i in range(1,6):\n",
        "  print(i)"
      ]
    },
    {
      "cell_type": "code",
      "source": [
        "numbers = [1, 2, 3, 4, 5]\n",
        "for j in numbers:\n",
        "  print(j)"
      ],
      "metadata": {
        "colab": {
          "base_uri": "https://localhost:8080/"
        },
        "id": "meKXUb6NFR2c",
        "outputId": "593e049e-aee5-4bb7-f51a-daf4ca5428c2"
      },
      "execution_count": null,
      "outputs": [
        {
          "output_type": "stream",
          "name": "stdout",
          "text": [
            "1\n",
            "2\n",
            "3\n",
            "4\n",
            "5\n"
          ]
        }
      ]
    },
    {
      "cell_type": "code",
      "source": [
        "greeting = \"Hello\"\n",
        "for i in greeting:\n",
        "  print(i)"
      ],
      "metadata": {
        "colab": {
          "base_uri": "https://localhost:8080/"
        },
        "id": "LOhlczRdGDS3",
        "outputId": "b0a46405-576c-4b55-b3c8-e88466e0c488"
      },
      "execution_count": null,
      "outputs": [
        {
          "output_type": "stream",
          "name": "stdout",
          "text": [
            "H\n",
            "e\n",
            "l\n",
            "l\n",
            "o\n"
          ]
        }
      ]
    },
    {
      "cell_type": "code",
      "source": [
        "# 리스트 [2, 4, 6, 8, 10]에 들어있는 수들의 합계를 구해 출력하세요.\n",
        "\n",
        "gums = [2, 4, 6, 8, 10]\n",
        "total = 0\n",
        "for i in gums:\n",
        "    total += i\n",
        "print(\"합계:\", total)"
      ],
      "metadata": {
        "colab": {
          "base_uri": "https://localhost:8080/"
        },
        "id": "Lw2TylQ5G8nS",
        "outputId": "4c6d4d5c-28ca-45f3-b459-6b488ceff1b9"
      },
      "execution_count": null,
      "outputs": [
        {
          "output_type": "stream",
          "name": "stdout",
          "text": [
            "합계: 30\n"
          ]
        }
      ]
    },
    {
      "cell_type": "code",
      "source": [
        "# 리스트 nums = [12, 5, 8, 130, 44]에서 10보다 큰 수만 골라 새 리스트에 담아 출력하세요.\n",
        "\n",
        "nums = [12, 5, 8, 130, 44]\n",
        "for i in nums:\n",
        "  if i >= 10:\n",
        "   print(i)"
      ],
      "metadata": {
        "colab": {
          "base_uri": "https://localhost:8080/"
        },
        "id": "YCG7nGAIIe6E",
        "outputId": "6551bb05-0963-4349-8fac-4b99d1fe0a7f"
      },
      "execution_count": null,
      "outputs": [
        {
          "output_type": "stream",
          "name": "stdout",
          "text": [
            "12\n",
            "130\n",
            "44\n"
          ]
        }
      ]
    },
    {
      "cell_type": "code",
      "source": [
        "nums = [12, 5, 8, 130, 44]\n",
        "big = []\n",
        "for n in nums:\n",
        "    if n > 10:\n",
        "        big.append(n)\n",
        "print(\"10보다 큰 수:\", big)"
      ],
      "metadata": {
        "colab": {
          "base_uri": "https://localhost:8080/"
        },
        "id": "xrn4NoA8JZvB",
        "outputId": "18fbc61c-82ba-45e2-8a98-a14fcb94a05d"
      },
      "execution_count": null,
      "outputs": [
        {
          "output_type": "stream",
          "name": "stdout",
          "text": [
            "10보다 큰 수: [12, 130, 44]\n"
          ]
        }
      ]
    },
    {
      "cell_type": "code",
      "source": [
        "# 1부터 100까지의 합을 구해 출력하세요.\n",
        "\n",
        "total = 0\n",
        "for i in range(1,101):\n",
        "  total += i\n",
        "print(\"합\", total)"
      ],
      "metadata": {
        "colab": {
          "base_uri": "https://localhost:8080/"
        },
        "id": "BfrfrjG6J4k7",
        "outputId": "0bc2f869-ae2b-45a6-ffbe-b9d87298cf8c"
      },
      "execution_count": null,
      "outputs": [
        {
          "output_type": "stream",
          "name": "stdout",
          "text": [
            "합 5050\n"
          ]
        }
      ]
    },
    {
      "cell_type": "code",
      "source": [
        "# 리스트 [1, 5, 2, 8, 3, 10]에서 짝수만 골라 새로운 리스트에 담고 출력하세요.\n",
        "\n",
        "original = [1, 5, 2, 8, 3, 10]\n",
        "evens = []\n",
        "for n in original:\n",
        "  if n % 2 == 0:\n",
        "        evens.append(n)\n",
        "print(evens)"
      ],
      "metadata": {
        "colab": {
          "base_uri": "https://localhost:8080/"
        },
        "id": "mCJsO8I0Ly1I",
        "outputId": "cea4f852-7785-4a75-cbeb-fd07cb59dd67"
      },
      "execution_count": null,
      "outputs": [
        {
          "output_type": "stream",
          "name": "stdout",
          "text": [
            "[2, 8, 10]\n"
          ]
        }
      ]
    },
    {
      "cell_type": "code",
      "source": [
        "# 학생의 점수 score를 입력받아 90 이상 A, 80 이상 B, 70 이상 C, 60 이상 D, 나머지 F를 출력하세요.\n",
        "\n",
        "score = int(input(\"점수를 입력하세요 (0~100): \"))\n",
        "if score >= 90:\n",
        "  grade = \"A\"\n",
        "elif score >= 80:\n",
        "  grade = \"B\"\n",
        "elif score >= 70:\n",
        "  grade = \"C\"\n",
        "elif score >= 60:\n",
        "  grade = \"D\"\n",
        "else:\n",
        "  grade = \"F\"\n",
        "print(grade)"
      ],
      "metadata": {
        "colab": {
          "base_uri": "https://localhost:8080/"
        },
        "id": "-orBSYUeNGOw",
        "outputId": "106151ae-c997-443d-ac86-f56a73bcd58b"
      },
      "execution_count": null,
      "outputs": [
        {
          "output_type": "stream",
          "name": "stdout",
          "text": [
            "점수를 입력하세요 (0~100): 20\n",
            "F\n"
          ]
        }
      ]
    },
    {
      "cell_type": "code",
      "source": [
        "# 두 수 a, b를 입력받아 같으면 “같음”, 아니면 “다름”을 출력하세요.\n",
        "\n",
        "a = input(\"a를 입력하세요: \")\n",
        "b = input(\"b를 입력하세요: \")\n",
        "if a == b:\n",
        "  i = \"같음\"\n",
        "else:\n",
        "  i = \"다름\"\n",
        "print(i)"
      ],
      "metadata": {
        "colab": {
          "base_uri": "https://localhost:8080/"
        },
        "id": "XVV3e9mGQHt9",
        "outputId": "140f4daf-57a4-4006-a250-a5677a17ebcd"
      },
      "execution_count": null,
      "outputs": [
        {
          "output_type": "stream",
          "name": "stdout",
          "text": [
            "a를 입력하세요: 1\n",
            "b를 입력하세요: 1\n",
            "같음\n"
          ]
        }
      ]
    },
    {
      "cell_type": "code",
      "source": [
        "# 1부터 5까지 숫자를 출력하세요.\n",
        "\n",
        "i = 1\n",
        "while i <= 5:\n",
        "    print(i)\n",
        "    i += 1"
      ],
      "metadata": {
        "colab": {
          "base_uri": "https://localhost:8080/"
        },
        "id": "zkDq8nRERCVf",
        "outputId": "2578fe63-dfa5-4265-eeff-ee51bfb462ee"
      },
      "execution_count": null,
      "outputs": [
        {
          "output_type": "stream",
          "name": "stdout",
          "text": [
            "1\n",
            "2\n",
            "3\n",
            "4\n",
            "5\n"
          ]
        }
      ]
    },
    {
      "cell_type": "code",
      "source": [
        "# 문자열 \"Python\"의 각 문자를 한 글자씩 출력하세요.\n",
        "\n",
        "s = \"Python\"\n",
        "i = 0\n",
        "while i < len(s):\n",
        "    print(s[i])\n",
        "    i += 1"
      ],
      "metadata": {
        "colab": {
          "base_uri": "https://localhost:8080/"
        },
        "id": "eqVN9LawSzBr",
        "outputId": "67eb0540-3a67-46ec-98aa-ea326c784d29"
      },
      "execution_count": null,
      "outputs": [
        {
          "output_type": "stream",
          "name": "stdout",
          "text": [
            "P\n",
            "y\n",
            "t\n",
            "h\n",
            "o\n",
            "n\n"
          ]
        }
      ]
    }
  ]
}