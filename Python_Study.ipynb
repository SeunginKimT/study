{
  "nbformat": 4,
  "nbformat_minor": 0,
  "metadata": {
    "colab": {
      "provenance": [],
      "authorship_tag": "ABX9TyMzJ92XBMLuoISNRNpTC05o",
      "include_colab_link": true
    },
    "kernelspec": {
      "name": "python3",
      "display_name": "Python 3"
    },
    "language_info": {
      "name": "python"
    }
  },
  "cells": [
    {
      "cell_type": "markdown",
      "metadata": {
        "id": "view-in-github",
        "colab_type": "text"
      },
      "source": [
        "<a href=\"https://colab.research.google.com/github/SeunginKimT/study/blob/main/Python_Study.ipynb\" target=\"_parent\"><img src=\"https://colab.research.google.com/assets/colab-badge.svg\" alt=\"Open In Colab\"/></a>"
      ]
    },
    {
      "cell_type": "code",
      "execution_count": null,
      "metadata": {
        "colab": {
          "base_uri": "https://localhost:8080/"
        },
        "id": "LjdjPQzFEdL5",
        "outputId": "2deacdcd-c254-4d16-96ad-aed811b89175"
      },
      "outputs": [
        {
          "output_type": "stream",
          "name": "stdout",
          "text": [
            "1\n",
            "2\n",
            "3\n",
            "4\n",
            "5\n"
          ]
        }
      ],
      "source": [
        "for i in range(1,6):\n",
        "  print(i)"
      ]
    },
    {
      "cell_type": "code",
      "source": [
        "numbers = [1, 2, 3, 4, 5]\n",
        "for j in numbers:\n",
        "  print(j)"
      ],
      "metadata": {
        "colab": {
          "base_uri": "https://localhost:8080/"
        },
        "id": "meKXUb6NFR2c",
        "outputId": "593e049e-aee5-4bb7-f51a-daf4ca5428c2"
      },
      "execution_count": null,
      "outputs": [
        {
          "output_type": "stream",
          "name": "stdout",
          "text": [
            "1\n",
            "2\n",
            "3\n",
            "4\n",
            "5\n"
          ]
        }
      ]
    },
    {
      "cell_type": "code",
      "source": [
        "greeting = \"Hello\"\n",
        "for i in greeting:\n",
        "  print(i)"
      ],
      "metadata": {
        "colab": {
          "base_uri": "https://localhost:8080/"
        },
        "id": "LOhlczRdGDS3",
        "outputId": "b0a46405-576c-4b55-b3c8-e88466e0c488"
      },
      "execution_count": null,
      "outputs": [
        {
          "output_type": "stream",
          "name": "stdout",
          "text": [
            "H\n",
            "e\n",
            "l\n",
            "l\n",
            "o\n"
          ]
        }
      ]
    },
    {
      "cell_type": "code",
      "source": [
        "# 리스트 [2, 4, 6, 8, 10]에 들어있는 수들의 합계를 구해 출력하세요.\n",
        "\n",
        "gums = [2, 4, 6, 8, 10]\n",
        "total = 0\n",
        "for i in gums:\n",
        "    total += i\n",
        "print(\"합계:\", total)"
      ],
      "metadata": {
        "colab": {
          "base_uri": "https://localhost:8080/"
        },
        "id": "Lw2TylQ5G8nS",
        "outputId": "4c6d4d5c-28ca-45f3-b459-6b488ceff1b9"
      },
      "execution_count": null,
      "outputs": [
        {
          "output_type": "stream",
          "name": "stdout",
          "text": [
            "합계: 30\n"
          ]
        }
      ]
    },
    {
      "cell_type": "code",
      "source": [
        "# 리스트 nums = [12, 5, 8, 130, 44]에서 10보다 큰 수만 골라 새 리스트에 담아 출력하세요.\n",
        "\n",
        "nums = [12, 5, 8, 130, 44]\n",
        "for i in nums:\n",
        "  if i >= 10:\n",
        "   print(i)"
      ],
      "metadata": {
        "colab": {
          "base_uri": "https://localhost:8080/"
        },
        "id": "YCG7nGAIIe6E",
        "outputId": "6551bb05-0963-4349-8fac-4b99d1fe0a7f"
      },
      "execution_count": null,
      "outputs": [
        {
          "output_type": "stream",
          "name": "stdout",
          "text": [
            "12\n",
            "130\n",
            "44\n"
          ]
        }
      ]
    },
    {
      "cell_type": "code",
      "source": [
        "nums = [12, 5, 8, 130, 44]\n",
        "big = []\n",
        "for n in nums:\n",
        "    if n > 10:\n",
        "        big.append(n)\n",
        "print(\"10보다 큰 수:\", big)"
      ],
      "metadata": {
        "colab": {
          "base_uri": "https://localhost:8080/"
        },
        "id": "xrn4NoA8JZvB",
        "outputId": "18fbc61c-82ba-45e2-8a98-a14fcb94a05d"
      },
      "execution_count": null,
      "outputs": [
        {
          "output_type": "stream",
          "name": "stdout",
          "text": [
            "10보다 큰 수: [12, 130, 44]\n"
          ]
        }
      ]
    },
    {
      "cell_type": "code",
      "source": [
        "# 1부터 100까지의 합을 구해 출력하세요.\n",
        "\n",
        "total = 0\n",
        "for i in range(1,101):\n",
        "  total += i\n",
        "print(\"합\", total)"
      ],
      "metadata": {
        "colab": {
          "base_uri": "https://localhost:8080/"
        },
        "id": "BfrfrjG6J4k7",
        "outputId": "0bc2f869-ae2b-45a6-ffbe-b9d87298cf8c"
      },
      "execution_count": null,
      "outputs": [
        {
          "output_type": "stream",
          "name": "stdout",
          "text": [
            "합 5050\n"
          ]
        }
      ]
    },
    {
      "cell_type": "code",
      "source": [
        "# 리스트 [1, 5, 2, 8, 3, 10]에서 짝수만 골라 새로운 리스트에 담고 출력하세요.\n",
        "\n",
        "original = [1, 5, 2, 8, 3, 10]\n",
        "evens = []\n",
        "for n in original:\n",
        "  if n % 2 == 0:\n",
        "        evens.append(n)\n",
        "print(evens)"
      ],
      "metadata": {
        "colab": {
          "base_uri": "https://localhost:8080/"
        },
        "id": "mCJsO8I0Ly1I",
        "outputId": "cea4f852-7785-4a75-cbeb-fd07cb59dd67"
      },
      "execution_count": null,
      "outputs": [
        {
          "output_type": "stream",
          "name": "stdout",
          "text": [
            "[2, 8, 10]\n"
          ]
        }
      ]
    },
    {
      "cell_type": "code",
      "source": [
        "# 학생의 점수 score를 입력받아 90 이상 A, 80 이상 B, 70 이상 C, 60 이상 D, 나머지 F를 출력하세요.\n",
        "\n",
        "score = int(input(\"점수를 입력하세요 (0~100): \"))\n",
        "if score >= 90:\n",
        "  grade = \"A\"\n",
        "elif score >= 80:\n",
        "  grade = \"B\"\n",
        "elif score >= 70:\n",
        "  grade = \"C\"\n",
        "elif score >= 60:\n",
        "  grade = \"D\"\n",
        "else:\n",
        "  grade = \"F\"\n",
        "print(grade)"
      ],
      "metadata": {
        "colab": {
          "base_uri": "https://localhost:8080/"
        },
        "id": "-orBSYUeNGOw",
        "outputId": "106151ae-c997-443d-ac86-f56a73bcd58b"
      },
      "execution_count": null,
      "outputs": [
        {
          "output_type": "stream",
          "name": "stdout",
          "text": [
            "점수를 입력하세요 (0~100): 20\n",
            "F\n"
          ]
        }
      ]
    },
    {
      "cell_type": "code",
      "source": [
        "# 두 수 a, b를 입력받아 같으면 “같음”, 아니면 “다름”을 출력하세요.\n",
        "\n",
        "a = input(\"a를 입력하세요: \")\n",
        "b = input(\"b를 입력하세요: \")\n",
        "if a == b:\n",
        "  i = \"같음\"\n",
        "else:\n",
        "  i = \"다름\"\n",
        "print(i)"
      ],
      "metadata": {
        "colab": {
          "base_uri": "https://localhost:8080/"
        },
        "id": "XVV3e9mGQHt9",
        "outputId": "140f4daf-57a4-4006-a250-a5677a17ebcd"
      },
      "execution_count": null,
      "outputs": [
        {
          "output_type": "stream",
          "name": "stdout",
          "text": [
            "a를 입력하세요: 1\n",
            "b를 입력하세요: 1\n",
            "같음\n"
          ]
        }
      ]
    },
    {
      "cell_type": "code",
      "source": [
        "# 1부터 5까지 숫자를 출력하세요.\n",
        "\n",
        "i = 1\n",
        "while i <= 5:\n",
        "    print(i)\n",
        "    i += 1"
      ],
      "metadata": {
        "colab": {
          "base_uri": "https://localhost:8080/"
        },
        "id": "zkDq8nRERCVf",
        "outputId": "56246f9e-a15f-47d7-8a56-c2954f88ab31"
      },
      "execution_count": null,
      "outputs": [
        {
          "output_type": "stream",
          "name": "stdout",
          "text": [
            "1\n",
            "2\n",
            "3\n",
            "4\n",
            "5\n"
          ]
        }
      ]
    },
    {
      "cell_type": "code",
      "source": [
        "# 문자열 \"Python\"의 각 문자를 한 글자씩 출력하세요.\n",
        "\n",
        "s = \"Python\"\n",
        "i = 0\n",
        "while i < len(s):\n",
        "    print(s[i])\n",
        "    i += 1"
      ],
      "metadata": {
        "colab": {
          "base_uri": "https://localhost:8080/"
        },
        "id": "eqVN9LawSzBr",
        "outputId": "67eb0540-3a67-46ec-98aa-ea326c784d29"
      },
      "execution_count": null,
      "outputs": [
        {
          "output_type": "stream",
          "name": "stdout",
          "text": [
            "P\n",
            "y\n",
            "t\n",
            "h\n",
            "o\n",
            "n\n"
          ]
        }
      ]
    },
    {
      "cell_type": "code",
      "source": [
        "a = 3\n",
        "if a > 1:\n",
        "  print(\"a는1보다 큽니다\")"
      ],
      "metadata": {
        "colab": {
          "base_uri": "https://localhost:8080/"
        },
        "id": "lXjA23ImPfi5",
        "outputId": "7ac8095f-4fd4-4f13-ab1a-dcd0b49c50e1"
      },
      "execution_count": null,
      "outputs": [
        {
          "output_type": "stream",
          "name": "stdout",
          "text": [
            "a는1보다 큽니다\n"
          ]
        }
      ]
    },
    {
      "cell_type": "code",
      "source": [
        "for a in [1,2,3]:\n",
        "  print(a)"
      ],
      "metadata": {
        "colab": {
          "base_uri": "https://localhost:8080/"
        },
        "id": "4q11N5kxP5TM",
        "outputId": "8a6fab2f-67df-4cd7-d376-62a1c20beb96"
      },
      "execution_count": null,
      "outputs": [
        {
          "output_type": "stream",
          "name": "stdout",
          "text": [
            "1\n",
            "2\n",
            "3\n"
          ]
        }
      ]
    },
    {
      "cell_type": "code",
      "source": [
        "i = 0\n",
        "while i < 3:\n",
        "  i = i+1\n",
        "  print(i)"
      ],
      "metadata": {
        "colab": {
          "base_uri": "https://localhost:8080/"
        },
        "id": "wv9K0C7mQJid",
        "outputId": "033fcc66-10be-43a2-e070-eb7118c47b39"
      },
      "execution_count": null,
      "outputs": [
        {
          "output_type": "stream",
          "name": "stdout",
          "text": [
            "1\n",
            "2\n",
            "3\n"
          ]
        }
      ]
    },
    {
      "cell_type": "code",
      "source": [
        "def add(a, b):\n",
        "  return a + b\n",
        "\n",
        "print(add(3, 4))"
      ],
      "metadata": {
        "colab": {
          "base_uri": "https://localhost:8080/"
        },
        "id": "9VZpYjCyQr6u",
        "outputId": "b9fc247c-2d26-4333-f18e-9508a787e240"
      },
      "execution_count": null,
      "outputs": [
        {
          "output_type": "stream",
          "name": "stdout",
          "text": [
            "7\n"
          ]
        }
      ]
    },
    {
      "cell_type": "code",
      "source": [
        "a = 3\n",
        "b = 4\n",
        "a + b"
      ],
      "metadata": {
        "colab": {
          "base_uri": "https://localhost:8080/"
        },
        "id": "nWoGQbxYUzXa",
        "outputId": "c9a74ff9-d1d2-4d79-f842-901eef83665e"
      },
      "execution_count": null,
      "outputs": [
        {
          "output_type": "execute_result",
          "data": {
            "text/plain": [
              "7"
            ]
          },
          "metadata": {},
          "execution_count": 19
        }
      ]
    },
    {
      "cell_type": "code",
      "source": [
        "10*18**2+2*11"
      ],
      "metadata": {
        "colab": {
          "base_uri": "https://localhost:8080/"
        },
        "id": "kmm30-dqWDld",
        "outputId": "41d6ed95-ddeb-4b59-8929-085a7322bdda"
      },
      "execution_count": null,
      "outputs": [
        {
          "output_type": "execute_result",
          "data": {
            "text/plain": [
              "3262"
            ]
          },
          "metadata": {},
          "execution_count": 20
        }
      ]
    },
    {
      "cell_type": "code",
      "source": [
        "14/3"
      ],
      "metadata": {
        "colab": {
          "base_uri": "https://localhost:8080/"
        },
        "id": "tQGSMPTTWqG0",
        "outputId": "263d85f0-7031-4461-e249-9c014f2b2488"
      },
      "execution_count": null,
      "outputs": [
        {
          "output_type": "execute_result",
          "data": {
            "text/plain": [
              "4.666666666666667"
            ]
          },
          "metadata": {},
          "execution_count": 21
        }
      ]
    },
    {
      "cell_type": "code",
      "source": [
        "14%3"
      ],
      "metadata": {
        "colab": {
          "base_uri": "https://localhost:8080/"
        },
        "id": "NmuzCr33Wspl",
        "outputId": "c72c7235-31fc-4674-dbfd-16b704edab3a"
      },
      "execution_count": null,
      "outputs": [
        {
          "output_type": "execute_result",
          "data": {
            "text/plain": [
              "2"
            ]
          },
          "metadata": {},
          "execution_count": 22
        }
      ]
    },
    {
      "cell_type": "code",
      "source": [
        "14//3"
      ],
      "metadata": {
        "colab": {
          "base_uri": "https://localhost:8080/"
        },
        "id": "DkS8hN47W0ur",
        "outputId": "78827c14-f146-419b-c021-474553c1b5bd"
      },
      "execution_count": null,
      "outputs": [
        {
          "output_type": "execute_result",
          "data": {
            "text/plain": [
              "4"
            ]
          },
          "metadata": {},
          "execution_count": 23
        }
      ]
    },
    {
      "cell_type": "code",
      "source": [
        "multiline = \"\"\"\n",
        "life is too short\n",
        "you need python\n",
        "\"\"\"\n",
        "print(multiline)"
      ],
      "metadata": {
        "colab": {
          "base_uri": "https://localhost:8080/"
        },
        "id": "zjKNn-hoXcvA",
        "outputId": "55204175-9b46-4d92-a81f-b0e487b7c944"
      },
      "execution_count": null,
      "outputs": [
        {
          "output_type": "stream",
          "name": "stdout",
          "text": [
            "\n",
            "life is too short\n",
            "you need python\n",
            "\n"
          ]
        }
      ]
    },
    {
      "cell_type": "code",
      "source": [
        "head = \"python\"\n",
        "tail = \" is fun\"\n",
        "head + tail"
      ],
      "metadata": {
        "colab": {
          "base_uri": "https://localhost:8080/",
          "height": 35
        },
        "id": "LU4BfWNLYFZI",
        "outputId": "b6393766-d6b8-465a-c302-7caff33d269a"
      },
      "execution_count": null,
      "outputs": [
        {
          "output_type": "execute_result",
          "data": {
            "text/plain": [
              "'python is fun'"
            ],
            "application/vnd.google.colaboratory.intrinsic+json": {
              "type": "string"
            }
          },
          "metadata": {},
          "execution_count": 28
        }
      ]
    },
    {
      "cell_type": "code",
      "source": [
        "a = \"python\"\n",
        "a * 2"
      ],
      "metadata": {
        "colab": {
          "base_uri": "https://localhost:8080/",
          "height": 35
        },
        "id": "k9szHGITYP0q",
        "outputId": "c5e22240-ae16-4192-d2a2-165af497734a"
      },
      "execution_count": null,
      "outputs": [
        {
          "output_type": "execute_result",
          "data": {
            "text/plain": [
              "'pythonpython'"
            ],
            "application/vnd.google.colaboratory.intrinsic+json": {
              "type": "string"
            }
          },
          "metadata": {},
          "execution_count": 29
        }
      ]
    },
    {
      "cell_type": "code",
      "source": [
        "print(\"=\" * 50)\n",
        "print(\"my program\")\n",
        "print(\"=\" * 50)"
      ],
      "metadata": {
        "colab": {
          "base_uri": "https://localhost:8080/"
        },
        "id": "hnjKsnmWYed-",
        "outputId": "63708419-187d-4dfc-9170-76970f98ef01"
      },
      "execution_count": null,
      "outputs": [
        {
          "output_type": "stream",
          "name": "stdout",
          "text": [
            "==================================================\n",
            "my program\n",
            "==================================================\n"
          ]
        }
      ]
    },
    {
      "cell_type": "code",
      "source": [
        "a = \"life is too short\"\n",
        "len(a)"
      ],
      "metadata": {
        "colab": {
          "base_uri": "https://localhost:8080/"
        },
        "id": "1C-_CzMmZGTX",
        "outputId": "2d1fd1a3-b1ab-4a2f-a66d-9dd9d0550b53"
      },
      "execution_count": null,
      "outputs": [
        {
          "output_type": "execute_result",
          "data": {
            "text/plain": [
              "17"
            ]
          },
          "metadata": {},
          "execution_count": 33
        }
      ]
    },
    {
      "cell_type": "code",
      "source": [
        "a = \"life is too short, you need python\"\n",
        "a[19:-7]"
      ],
      "metadata": {
        "colab": {
          "base_uri": "https://localhost:8080/",
          "height": 35
        },
        "id": "6xm9__1IaHty",
        "outputId": "13b2f111-4f0a-445d-e56f-7b6df30b3172"
      },
      "execution_count": null,
      "outputs": [
        {
          "output_type": "execute_result",
          "data": {
            "text/plain": [
              "'you need'"
            ],
            "application/vnd.google.colaboratory.intrinsic+json": {
              "type": "string"
            }
          },
          "metadata": {},
          "execution_count": 44
        }
      ]
    },
    {
      "cell_type": "code",
      "source": [
        "a = \"Pithon\"\n",
        "a[:1] + \"y\" + a[2:]\n"
      ],
      "metadata": {
        "colab": {
          "base_uri": "https://localhost:8080/",
          "height": 35
        },
        "id": "kdwsj6x1EHoA",
        "outputId": "27271e7a-ad55-4254-9267-5b4b64f657bb"
      },
      "execution_count": null,
      "outputs": [
        {
          "output_type": "execute_result",
          "data": {
            "text/plain": [
              "'Python'"
            ],
            "application/vnd.google.colaboratory.intrinsic+json": {
              "type": "string"
            }
          },
          "metadata": {},
          "execution_count": 1
        }
      ]
    },
    {
      "cell_type": "code",
      "source": [
        "\"I eat %d apples\" %3"
      ],
      "metadata": {
        "colab": {
          "base_uri": "https://localhost:8080/",
          "height": 35
        },
        "id": "t4ynRdFxEutk",
        "outputId": "4f835ecd-a166-4f78-a84d-910f848bad8e"
      },
      "execution_count": null,
      "outputs": [
        {
          "output_type": "execute_result",
          "data": {
            "text/plain": [
              "'I eat 3 apples'"
            ],
            "application/vnd.google.colaboratory.intrinsic+json": {
              "type": "string"
            }
          },
          "metadata": {},
          "execution_count": 2
        }
      ]
    },
    {
      "cell_type": "code",
      "source": [
        "\"I eat %s apples\" %\"five\""
      ],
      "metadata": {
        "colab": {
          "base_uri": "https://localhost:8080/",
          "height": 35
        },
        "id": "aMdoWsuEE8fs",
        "outputId": "c03ba2d8-5347-4e32-9a44-cdba88b62c9b"
      },
      "execution_count": null,
      "outputs": [
        {
          "output_type": "execute_result",
          "data": {
            "text/plain": [
              "'I eat five apples'"
            ],
            "application/vnd.google.colaboratory.intrinsic+json": {
              "type": "string"
            }
          },
          "metadata": {},
          "execution_count": 6
        }
      ]
    },
    {
      "cell_type": "code",
      "source": [
        "number = 5\n",
        "\"I eat %d apples\" % number"
      ],
      "metadata": {
        "colab": {
          "base_uri": "https://localhost:8080/",
          "height": 35
        },
        "id": "G_4ma7OSFRFE",
        "outputId": "a96e9162-0a5d-45e7-a15a-0e5eab862ade"
      },
      "execution_count": null,
      "outputs": [
        {
          "output_type": "execute_result",
          "data": {
            "text/plain": [
              "'I eat 5 apples'"
            ],
            "application/vnd.google.colaboratory.intrinsic+json": {
              "type": "string"
            }
          },
          "metadata": {},
          "execution_count": 8
        }
      ]
    },
    {
      "cell_type": "code",
      "source": [
        "\"error is %d%%\" % 8"
      ],
      "metadata": {
        "colab": {
          "base_uri": "https://localhost:8080/",
          "height": 35
        },
        "id": "n60EcNVRYRxr",
        "outputId": "288b14cd-b8b6-4736-f45f-e2a5960b1c41"
      },
      "execution_count": null,
      "outputs": [
        {
          "output_type": "execute_result",
          "data": {
            "text/plain": [
              "'error is 8%'"
            ],
            "application/vnd.google.colaboratory.intrinsic+json": {
              "type": "string"
            }
          },
          "metadata": {},
          "execution_count": 5
        }
      ]
    },
    {
      "cell_type": "code",
      "source": [
        "\"%10s\" %\"hi\""
      ],
      "metadata": {
        "colab": {
          "base_uri": "https://localhost:8080/",
          "height": 35
        },
        "id": "5mopk_jZYm_i",
        "outputId": "3f171ab4-2945-4fbb-ef32-9e4a93cfbcb5"
      },
      "execution_count": null,
      "outputs": [
        {
          "output_type": "execute_result",
          "data": {
            "text/plain": [
              "'        hi'"
            ],
            "application/vnd.google.colaboratory.intrinsic+json": {
              "type": "string"
            }
          },
          "metadata": {},
          "execution_count": 8
        }
      ]
    },
    {
      "cell_type": "code",
      "source": [
        "\"%-10sjane\" %\"hi\""
      ],
      "metadata": {
        "colab": {
          "base_uri": "https://localhost:8080/",
          "height": 35
        },
        "id": "ixzJzLltZzH8",
        "outputId": "f8e5fce9-2c39-4bf9-c620-454df08d1621"
      },
      "execution_count": null,
      "outputs": [
        {
          "output_type": "execute_result",
          "data": {
            "text/plain": [
              "'hi        jane'"
            ],
            "application/vnd.google.colaboratory.intrinsic+json": {
              "type": "string"
            }
          },
          "metadata": {},
          "execution_count": 10
        }
      ]
    },
    {
      "cell_type": "code",
      "source": [
        "\"I eat {0} apples\" .format(3)"
      ],
      "metadata": {
        "colab": {
          "base_uri": "https://localhost:8080/",
          "height": 35
        },
        "id": "bEXS8I3jda3t",
        "outputId": "c5218236-941c-41b3-a6ab-9b3bf6c7163e"
      },
      "execution_count": null,
      "outputs": [
        {
          "output_type": "execute_result",
          "data": {
            "text/plain": [
              "'I eat 3 apples'"
            ],
            "application/vnd.google.colaboratory.intrinsic+json": {
              "type": "string"
            }
          },
          "metadata": {},
          "execution_count": 12
        }
      ]
    },
    {
      "cell_type": "code",
      "source": [
        "\"I eat {0} apples\" .format(\"three\")"
      ],
      "metadata": {
        "colab": {
          "base_uri": "https://localhost:8080/",
          "height": 35
        },
        "id": "1CEWUBJqd95G",
        "outputId": "01254055-a7f7-4415-e46c-c5b2f4d09bc0"
      },
      "execution_count": null,
      "outputs": [
        {
          "output_type": "execute_result",
          "data": {
            "text/plain": [
              "'I eat three apples'"
            ],
            "application/vnd.google.colaboratory.intrinsic+json": {
              "type": "string"
            }
          },
          "metadata": {},
          "execution_count": 13
        }
      ]
    },
    {
      "cell_type": "code",
      "source": [
        "number = 3\n",
        "\"I eat {0} apples\" .format(number)"
      ],
      "metadata": {
        "colab": {
          "base_uri": "https://localhost:8080/",
          "height": 35
        },
        "id": "02ynLojreFOa",
        "outputId": "0ae38323-8ad5-4e34-cac5-cb5d239206ff"
      },
      "execution_count": null,
      "outputs": [
        {
          "output_type": "execute_result",
          "data": {
            "text/plain": [
              "'I eat 3 apples'"
            ],
            "application/vnd.google.colaboratory.intrinsic+json": {
              "type": "string"
            }
          },
          "metadata": {},
          "execution_count": 16
        }
      ]
    },
    {
      "cell_type": "code",
      "source": [
        "\"I ate {0} apples in {hour} hour.\" .format(3, hour=1)"
      ],
      "metadata": {
        "colab": {
          "base_uri": "https://localhost:8080/",
          "height": 35
        },
        "id": "8HDpaos9eYya",
        "outputId": "d06baea2-4508-4349-b202-1fb9628a1e8a"
      },
      "execution_count": null,
      "outputs": [
        {
          "output_type": "execute_result",
          "data": {
            "text/plain": [
              "'I ate 3 apples in 1 hour.'"
            ],
            "application/vnd.google.colaboratory.intrinsic+json": {
              "type": "string"
            }
          },
          "metadata": {},
          "execution_count": 19
        }
      ]
    },
    {
      "cell_type": "code",
      "source": [
        "\"{0:=>10}\" .format(\"hi\")"
      ],
      "metadata": {
        "colab": {
          "base_uri": "https://localhost:8080/",
          "height": 35
        },
        "id": "RUP1Q_lQfIix",
        "outputId": "507c25a6-1a6f-4887-f781-bd7226ad6d44"
      },
      "execution_count": null,
      "outputs": [
        {
          "output_type": "execute_result",
          "data": {
            "text/plain": [
              "'========hi'"
            ],
            "application/vnd.google.colaboratory.intrinsic+json": {
              "type": "string"
            }
          },
          "metadata": {},
          "execution_count": 24
        }
      ]
    },
    {
      "cell_type": "code",
      "source": [
        "y = 3.215464\n",
        "\"{0:10.4f}\" .format(y)"
      ],
      "metadata": {
        "colab": {
          "base_uri": "https://localhost:8080/",
          "height": 35
        },
        "id": "PvSgNMEQgFug",
        "outputId": "3f88bbcb-a16c-4d65-b7d5-9556398c2901"
      },
      "execution_count": null,
      "outputs": [
        {
          "output_type": "execute_result",
          "data": {
            "text/plain": [
              "'    3.2155'"
            ],
            "application/vnd.google.colaboratory.intrinsic+json": {
              "type": "string"
            }
          },
          "metadata": {},
          "execution_count": 26
        }
      ]
    },
    {
      "cell_type": "code",
      "source": [
        "name = \"홍길동\"\n",
        "age = '30'\n",
        "f\"나의 이름은 {name} 입니다. 나이는 {age} 입니다\""
      ],
      "metadata": {
        "colab": {
          "base_uri": "https://localhost:8080/",
          "height": 35
        },
        "id": "5hyyHY7qgl9J",
        "outputId": "b0b78fc0-0aa5-45c6-c404-a006e39a2c2f"
      },
      "execution_count": null,
      "outputs": [
        {
          "output_type": "execute_result",
          "data": {
            "text/plain": [
              "'나의 이름은 홍길동 입니다. 나이는 30 입니다'"
            ],
            "application/vnd.google.colaboratory.intrinsic+json": {
              "type": "string"
            }
          },
          "metadata": {},
          "execution_count": 30
        }
      ]
    },
    {
      "cell_type": "code",
      "source": [
        "age = 30\n",
        "f\"나는 내년이면 {age + 1}살이 된다.\""
      ],
      "metadata": {
        "colab": {
          "base_uri": "https://localhost:8080/",
          "height": 35
        },
        "id": "pa-_qMnIjaJc",
        "outputId": "3c50569f-332d-468f-f448-1840d6f410d2"
      },
      "execution_count": null,
      "outputs": [
        {
          "output_type": "execute_result",
          "data": {
            "text/plain": [
              "'나는 내년이면 31살이 된다.'"
            ],
            "application/vnd.google.colaboratory.intrinsic+json": {
              "type": "string"
            }
          },
          "metadata": {},
          "execution_count": 31
        }
      ]
    },
    {
      "cell_type": "code",
      "source": [
        "f'{\"python\":!^12}'"
      ],
      "metadata": {
        "colab": {
          "base_uri": "https://localhost:8080/",
          "height": 35
        },
        "id": "fOHxy27vzWlg",
        "outputId": "9489412b-aa3d-417d-b7ad-320b081837fe"
      },
      "execution_count": null,
      "outputs": [
        {
          "output_type": "execute_result",
          "data": {
            "text/plain": [
              "'!!!python!!!'"
            ],
            "application/vnd.google.colaboratory.intrinsic+json": {
              "type": "string"
            }
          },
          "metadata": {},
          "execution_count": 4
        }
      ]
    },
    {
      "cell_type": "code",
      "source": [
        "b = \"hobby\"\n",
        "b.count('b')"
      ],
      "metadata": {
        "colab": {
          "base_uri": "https://localhost:8080/"
        },
        "id": "-EWPyeRaHy1b",
        "outputId": "55806fdc-f1c9-4908-890c-963e13d1d4fe"
      },
      "execution_count": null,
      "outputs": [
        {
          "output_type": "execute_result",
          "data": {
            "text/plain": [
              "2"
            ]
          },
          "metadata": {},
          "execution_count": 7
        }
      ]
    },
    {
      "cell_type": "code",
      "source": [
        "a = \"python is the best choice\"\n",
        "a.find ('b')\n",
        "a.find ('k')"
      ],
      "metadata": {
        "colab": {
          "base_uri": "https://localhost:8080/"
        },
        "id": "0QrLPMpUIEBh",
        "outputId": "48572d34-918a-4676-a5a2-073ef1cef769"
      },
      "execution_count": null,
      "outputs": [
        {
          "output_type": "execute_result",
          "data": {
            "text/plain": [
              "-1"
            ]
          },
          "metadata": {},
          "execution_count": 17
        }
      ]
    },
    {
      "cell_type": "code",
      "source": [
        "a = \"Life is too short\"\n",
        "a.index('e')"
      ],
      "metadata": {
        "colab": {
          "base_uri": "https://localhost:8080/"
        },
        "id": "iEqQkPeKIhq_",
        "outputId": "c02db59a-a47d-48c2-d5f2-0f03ac56b20d"
      },
      "execution_count": null,
      "outputs": [
        {
          "output_type": "execute_result",
          "data": {
            "text/plain": [
              "3"
            ]
          },
          "metadata": {},
          "execution_count": 20
        }
      ]
    },
    {
      "cell_type": "code",
      "source": [
        "\",\" .join('abcd')"
      ],
      "metadata": {
        "colab": {
          "base_uri": "https://localhost:8080/",
          "height": 35
        },
        "id": "-F-TZzZXKxbd",
        "outputId": "89c316b9-b4bb-4b25-a142-4a62a52ef26b"
      },
      "execution_count": null,
      "outputs": [
        {
          "output_type": "execute_result",
          "data": {
            "text/plain": [
              "'a,b,c,d'"
            ],
            "application/vnd.google.colaboratory.intrinsic+json": {
              "type": "string"
            }
          },
          "metadata": {},
          "execution_count": 21
        }
      ]
    },
    {
      "cell_type": "code",
      "source": [
        "a = \"hi\"\n",
        "a.upper()"
      ],
      "metadata": {
        "colab": {
          "base_uri": "https://localhost:8080/",
          "height": 35
        },
        "id": "IsrSeLuALCMC",
        "outputId": "bdbd8151-14a3-4741-b8c3-96c29b17ac84"
      },
      "execution_count": null,
      "outputs": [
        {
          "output_type": "execute_result",
          "data": {
            "text/plain": [
              "'HI'"
            ],
            "application/vnd.google.colaboratory.intrinsic+json": {
              "type": "string"
            }
          },
          "metadata": {},
          "execution_count": 22
        }
      ]
    },
    {
      "cell_type": "code",
      "source": [
        "a = \"hi\"\n",
        "a.lower()"
      ],
      "metadata": {
        "colab": {
          "base_uri": "https://localhost:8080/",
          "height": 35
        },
        "id": "Qh02NKuJLHJy",
        "outputId": "287b70f2-8463-4f72-c1f2-8ba151df3a9e"
      },
      "execution_count": null,
      "outputs": [
        {
          "output_type": "execute_result",
          "data": {
            "text/plain": [
              "'hi'"
            ],
            "application/vnd.google.colaboratory.intrinsic+json": {
              "type": "string"
            }
          },
          "metadata": {},
          "execution_count": 23
        }
      ]
    },
    {
      "cell_type": "code",
      "source": [
        "a = \"life is too short\"\n",
        "a.replace(\"life\", \"your leg\")"
      ],
      "metadata": {
        "colab": {
          "base_uri": "https://localhost:8080/",
          "height": 35
        },
        "id": "nflgYigQLThg",
        "outputId": "a97df7cb-5035-4190-fb85-0ef5fd5f2cc8"
      },
      "execution_count": null,
      "outputs": [
        {
          "output_type": "execute_result",
          "data": {
            "text/plain": [
              "'your leg is too short'"
            ],
            "application/vnd.google.colaboratory.intrinsic+json": {
              "type": "string"
            }
          },
          "metadata": {},
          "execution_count": 26
        }
      ]
    },
    {
      "cell_type": "code",
      "source": [
        "a = \"life is too short\"\n",
        "a.split()"
      ],
      "metadata": {
        "colab": {
          "base_uri": "https://localhost:8080/"
        },
        "id": "EQbCMXaZLg-D",
        "outputId": "b51f8612-9e01-43e4-d4ff-53016c10c244"
      },
      "execution_count": null,
      "outputs": [
        {
          "output_type": "execute_result",
          "data": {
            "text/plain": [
              "['life', 'is', 'too', 'short']"
            ]
          },
          "metadata": {},
          "execution_count": 30
        }
      ]
    },
    {
      "cell_type": "code",
      "source": [
        "a = [1,2,3]\n",
        "a[0] + a[2]"
      ],
      "metadata": {
        "colab": {
          "base_uri": "https://localhost:8080/"
        },
        "id": "dBrupGEyPHAo",
        "outputId": "90eaa779-fa98-4bf6-f2c6-b3e81f935f24"
      },
      "execution_count": null,
      "outputs": [
        {
          "output_type": "execute_result",
          "data": {
            "text/plain": [
              "4"
            ]
          },
          "metadata": {},
          "execution_count": 35
        }
      ]
    },
    {
      "cell_type": "code",
      "source": [
        "def a(name):\n",
        "  print(f'안녕하세요. {name}님!')\n",
        "a(\"H\")\n",
        "a(\"k\")\n",
        "\n"
      ],
      "metadata": {
        "colab": {
          "base_uri": "https://localhost:8080/"
        },
        "id": "q0u4u2elsdyu",
        "outputId": "bd7a3288-c30e-46b9-d3cc-bbb78909773f"
      },
      "execution_count": null,
      "outputs": [
        {
          "output_type": "stream",
          "name": "stdout",
          "text": [
            "안녕하세요. H님!\n",
            "안녕하세요. k님!\n"
          ]
        }
      ]
    },
    {
      "cell_type": "code",
      "source": [
        "#두 수의 합 반환하기\n",
        "#두 개의 숫자 a, b를 받아서 그 합을 반환하는 함수 sum_two(a, b)를 작성하세요.\n",
        "\n",
        "def sum_two(a, b):\n",
        "  c = a + b\n",
        "  return c\n",
        "\n",
        "sum_two(3,4)\n",
        "\n",
        "\n"
      ],
      "metadata": {
        "colab": {
          "base_uri": "https://localhost:8080/"
        },
        "id": "va0ylvC_ucsA",
        "outputId": "49fa8b25-d1af-419c-ad2c-e79f4fa0296b"
      },
      "execution_count": null,
      "outputs": [
        {
          "output_type": "execute_result",
          "data": {
            "text/plain": [
              "7"
            ]
          },
          "metadata": {},
          "execution_count": 45
        }
      ]
    },
    {
      "cell_type": "code",
      "source": [
        "#두 수의 곱 반환하기\n",
        "#두 개의 숫자 a, b를 받아서 그 곱을 반환하는 함수 multiple_two(a, b)를 작성하세요.\n",
        "\n",
        "def multiple_two(a, b):\n",
        "  c = a * b\n",
        "  return c\n",
        "\n",
        "multiple_two(3,4)"
      ],
      "metadata": {
        "colab": {
          "base_uri": "https://localhost:8080/"
        },
        "id": "WYkfDsrSwLCv",
        "outputId": "388b77ae-17db-4db2-d2c3-6b7cdae870ef"
      },
      "execution_count": null,
      "outputs": [
        {
          "output_type": "execute_result",
          "data": {
            "text/plain": [
              "12"
            ]
          },
          "metadata": {},
          "execution_count": 46
        }
      ]
    },
    {
      "cell_type": "code",
      "source": [
        "#짝수 판별하기\n",
        "#정수 n을 받아서 짝수이면 True, 홀수면 False를 반환하는 함수 is_even(n)을 작성하세요.\n",
        "\n",
        "def is_even(n):\n",
        "  if n % 2 == 0 :\n",
        "    return True\n",
        "  else :\n",
        "    return False\n",
        "\n",
        "is_even(6)"
      ],
      "metadata": {
        "colab": {
          "base_uri": "https://localhost:8080/"
        },
        "id": "X1nQZWpww3oQ",
        "outputId": "14f6b902-457a-4795-e1c8-39c4056a0e49"
      },
      "execution_count": null,
      "outputs": [
        {
          "output_type": "execute_result",
          "data": {
            "text/plain": [
              "True"
            ]
          },
          "metadata": {},
          "execution_count": 51
        }
      ]
    },
    {
      "cell_type": "code",
      "source": [
        "#count_items 함수 안에 for문을 넣어서 [1,2,3,4] 원소 전부 다 더합니다.\n",
        "\n",
        "def count_items(count):\n",
        "  total = 0\n",
        "  for i in count:\n",
        "    total += i\n",
        "  return total\n",
        "count = [1,2,3,4]\n",
        "count_items(count)"
      ],
      "metadata": {
        "colab": {
          "base_uri": "https://localhost:8080/"
        },
        "id": "anI7-6OWyoXn",
        "outputId": "26df3d26-c61a-4836-ce8b-85971f3dfee6"
      },
      "execution_count": null,
      "outputs": [
        {
          "output_type": "execute_result",
          "data": {
            "text/plain": [
              "10"
            ]
          },
          "metadata": {},
          "execution_count": 54
        }
      ]
    },
    {
      "cell_type": "code",
      "source": [
        "def a(n):\n",
        "  return n % 2 == 1\n",
        "a(4)\n",
        "\n"
      ],
      "metadata": {
        "colab": {
          "base_uri": "https://localhost:8080/"
        },
        "id": "aMIgPtpa04li",
        "outputId": "72424a99-2e99-484b-8db8-6a2e72cbbe2e"
      },
      "execution_count": null,
      "outputs": [
        {
          "output_type": "execute_result",
          "data": {
            "text/plain": [
              "False"
            ]
          },
          "metadata": {},
          "execution_count": 58
        }
      ]
    },
    {
      "cell_type": "code",
      "source": [
        "#팩토리얼 계산하기\n",
        "#자연수 n을 받아서 1*2*...*n 값을 반환하는 함수 factorial(n)을 작성하세요.\n",
        "\n",
        "def factorial(n):\n",
        "  total = 1\n",
        "  for i in range (1, n) :\n",
        "    total *= i + 1\n",
        "  return total\n",
        "factorial(4)\n"
      ],
      "metadata": {
        "colab": {
          "base_uri": "https://localhost:8080/"
        },
        "id": "Q8KTHHPS18V_",
        "outputId": "fbe43b00-2eff-4f79-c7db-81571a866a0a"
      },
      "execution_count": null,
      "outputs": [
        {
          "output_type": "execute_result",
          "data": {
            "text/plain": [
              "24"
            ]
          },
          "metadata": {},
          "execution_count": 60
        }
      ]
    },
    {
      "cell_type": "code",
      "source": [
        "#짝수·홀수 개수 세기\n",
        "#정수 리스트 nums를 받아 짝수와 홀수의 개수를 튜플 (even_count, odd_count)로 반환하는 함수 count_even_odd(nums)를 작성하세요.\n",
        "\n",
        "def count_even_odd(nums):\n",
        "  even_count = 0\n",
        "  odd_count = 0\n",
        "  for i in nums:\n",
        "    if i % 2 == 0:\n",
        "      even_count += 1\n",
        "    else:\n",
        "      odd_count += 1\n",
        "  return even_count, odd_count\n",
        "count_even_odd([1,2,3,4,5])\n",
        "\n"
      ],
      "metadata": {
        "colab": {
          "base_uri": "https://localhost:8080/"
        },
        "id": "t1ghzQ4d3k8r",
        "outputId": "30de1527-8f94-4661-89a9-1816f99e59f5"
      },
      "execution_count": null,
      "outputs": [
        {
          "output_type": "execute_result",
          "data": {
            "text/plain": [
              "(2, 3)"
            ]
          },
          "metadata": {},
          "execution_count": 70
        }
      ]
    },
    {
      "cell_type": "code",
      "source": [
        "# 양수 합계 구하기\n",
        "# 정수 리스트 nums를 받아 0보다 큰(양수) 값들만 모두 더한 합계를 반환하는 함수 sum_positive(nums)를 작성하세요.\n",
        "# sum_positive([10, -5, 0, 3, -1, 7])\n",
        "\n",
        "sum_lst = [10, -5, 0, 3, -1, 7]\n",
        "total = 0\n",
        "for i in sum_lst :\n",
        "  if i >= 0:\n",
        "    total += i\n",
        "print(total)\n",
        "\n"
      ],
      "metadata": {
        "colab": {
          "base_uri": "https://localhost:8080/"
        },
        "outputId": "6d216617-c433-4878-e62c-422e675287d5",
        "id": "iPufhRi5tbsp"
      },
      "execution_count": null,
      "outputs": [
        {
          "output_type": "stream",
          "name": "stdout",
          "text": [
            "20\n"
          ]
        }
      ]
    },
    {
      "cell_type": "code",
      "source": [
        "def sum_positive(nums):\n",
        "  total = 0\n",
        "  for i in nums:\n",
        "    if i >=0:\n",
        "      total += i\n",
        "  return total\n",
        "sum_positive([10, -5, 0, 3, -1, 7])"
      ],
      "metadata": {
        "colab": {
          "base_uri": "https://localhost:8080/"
        },
        "id": "R5hVn6MQvCxa",
        "outputId": "ac7e2c30-51c1-475d-cfab-e6c06c0ccbca"
      },
      "execution_count": null,
      "outputs": [
        {
          "output_type": "execute_result",
          "data": {
            "text/plain": [
              "20"
            ]
          },
          "metadata": {},
          "execution_count": 8
        }
      ]
    },
    {
      "cell_type": "code",
      "source": [
        "for i in range(1,6):\n",
        "  print(i)"
      ],
      "metadata": {
        "colab": {
          "base_uri": "https://localhost:8080/"
        },
        "id": "Jlbje-qIw3LY",
        "outputId": "e84bee58-4c33-42a3-bee9-06aaba6646b1"
      },
      "execution_count": null,
      "outputs": [
        {
          "output_type": "stream",
          "name": "stdout",
          "text": [
            "1\n",
            "2\n",
            "3\n",
            "4\n",
            "5\n"
          ]
        }
      ]
    },
    {
      "cell_type": "code",
      "source": [
        "list = [1,2,3,4,5]\n",
        "for i in list:\n",
        "  print(i)"
      ],
      "metadata": {
        "colab": {
          "base_uri": "https://localhost:8080/"
        },
        "id": "GlXgJ2DRxj6k",
        "outputId": "adc76419-65cc-49d7-c4af-650746b8d549"
      },
      "execution_count": null,
      "outputs": [
        {
          "output_type": "stream",
          "name": "stdout",
          "text": [
            "1\n",
            "2\n",
            "3\n",
            "4\n",
            "5\n"
          ]
        }
      ]
    },
    {
      "cell_type": "code",
      "source": [
        "a = \"hello\"\n",
        "for i in a:\n",
        "  print(i)"
      ],
      "metadata": {
        "colab": {
          "base_uri": "https://localhost:8080/"
        },
        "id": "Ub6gpfIryghx",
        "outputId": "85aba1c3-cc72-4835-ec49-b2b440acdf3c"
      },
      "execution_count": null,
      "outputs": [
        {
          "output_type": "stream",
          "name": "stdout",
          "text": [
            "h\n",
            "e\n",
            "l\n",
            "l\n",
            "o\n"
          ]
        }
      ]
    },
    {
      "cell_type": "code",
      "source": [
        "# 리스트 [2, 4, 6, 8, 10]에 들어있는 수들의 합계를 구해 출력하세요.\n",
        "\n",
        "a = [2,4,6,8,10]\n",
        "total = 0\n",
        "for i in a:\n",
        "  total += i\n",
        "print(total)"
      ],
      "metadata": {
        "colab": {
          "base_uri": "https://localhost:8080/"
        },
        "id": "3kQ7665KzViw",
        "outputId": "41e3946e-0e2d-4467-aa28-be74b94f48d5"
      },
      "execution_count": null,
      "outputs": [
        {
          "output_type": "stream",
          "name": "stdout",
          "text": [
            "30\n"
          ]
        }
      ]
    },
    {
      "cell_type": "code",
      "source": [
        "# 1부터 10까지 숫자 중에서 짝수만 출력하세요.\n",
        "\n",
        "for i in range(1,11):\n",
        "  if i %2 == 0:\n",
        "    print(i)"
      ],
      "metadata": {
        "colab": {
          "base_uri": "https://localhost:8080/"
        },
        "id": "nRFvboNoz7LU",
        "outputId": "87e716f7-e94f-4459-9d9b-c6d27683ba28"
      },
      "execution_count": null,
      "outputs": [
        {
          "output_type": "stream",
          "name": "stdout",
          "text": [
            "2\n",
            "4\n",
            "6\n",
            "8\n",
            "10\n"
          ]
        }
      ]
    },
    {
      "cell_type": "code",
      "source": [
        "# 리스트 [1, 5, 2, 8, 3, 10]에서 짝수만 골라 새로운 리스트에 담고 출력하세요.\n",
        "\n",
        "list = [1,5,2,8,3,10]\n",
        "evens = []\n",
        "for i in list:\n",
        "  if i %2 == 0:\n",
        "    evens.append(i)\n",
        "print(evens)\n"
      ],
      "metadata": {
        "colab": {
          "base_uri": "https://localhost:8080/"
        },
        "id": "FOZqItvJ1I4m",
        "outputId": "8581810b-3318-4f0f-bc39-07e545287056"
      },
      "execution_count": null,
      "outputs": [
        {
          "output_type": "stream",
          "name": "stdout",
          "text": [
            "[2, 8, 10]\n"
          ]
        }
      ]
    },
    {
      "cell_type": "code",
      "source": [
        "# 리스트 [3, 7, 1, 9, 4]에서 최대값을 찾아 출력하세요.\n",
        "\n",
        "nums = [3,7,1,9,4]\n",
        "max_val = nums[0]\n",
        "for i in nums:\n",
        "  if i >= max_val:\n",
        "    max_val = i\n",
        "print(max_val)"
      ],
      "metadata": {
        "colab": {
          "base_uri": "https://localhost:8080/"
        },
        "id": "D79QXBJe21gS",
        "outputId": "f9efbccb-aaf3-4c45-dcb6-195d7219af69"
      },
      "execution_count": null,
      "outputs": [
        {
          "output_type": "stream",
          "name": "stdout",
          "text": [
            "9\n"
          ]
        }
      ]
    },
    {
      "cell_type": "code",
      "source": [
        "# 리스트 [1, 2, 2, 3, 4, 4, 5]에서 중복을 제거한 새 리스트를 만들어 출력하세요.\n",
        "\n",
        "nums = [1,2,2,3,4,4,5]\n",
        "n = []\n",
        "for i in nums:\n",
        "  if i not in n:\n",
        "    n.append(i)\n",
        "print(n)\n"
      ],
      "metadata": {
        "colab": {
          "base_uri": "https://localhost:8080/"
        },
        "id": "5iSZuXrA4_k0",
        "outputId": "54c050f4-ca6a-447b-aee5-2bc70818ac91"
      },
      "execution_count": null,
      "outputs": [
        {
          "output_type": "stream",
          "name": "stdout",
          "text": [
            "[1, 2, 3, 4, 5]\n"
          ]
        }
      ]
    },
    {
      "cell_type": "code",
      "source": [
        "#1부터 5까지 숫자를 출력하세요.\n",
        "\n",
        "for i in range(1,6):\n",
        "  print(i)"
      ],
      "metadata": {
        "colab": {
          "base_uri": "https://localhost:8080/"
        },
        "id": "GnDemmUP7Trv",
        "outputId": "73be24fd-374d-442a-97e5-bad419f46336"
      },
      "execution_count": null,
      "outputs": [
        {
          "output_type": "stream",
          "name": "stdout",
          "text": [
            "1\n",
            "2\n",
            "3\n",
            "4\n",
            "5\n"
          ]
        }
      ]
    },
    {
      "cell_type": "code",
      "source": [
        "# 리스트 [1, 2, 3, 4, 5]의 각 요소를 출력하세요.\n",
        "\n",
        "list = [1,2,3,4,5]\n",
        "for i in list:\n",
        "  print(i)"
      ],
      "metadata": {
        "colab": {
          "base_uri": "https://localhost:8080/"
        },
        "id": "nNSzsqsO7e7A",
        "outputId": "060cf960-5683-4528-d7e2-efac75cd3928"
      },
      "execution_count": null,
      "outputs": [
        {
          "output_type": "stream",
          "name": "stdout",
          "text": [
            "1\n",
            "2\n",
            "3\n",
            "4\n",
            "5\n"
          ]
        }
      ]
    },
    {
      "cell_type": "code",
      "source": [
        "# 문자열 \"Hello\"의 각 문자를 한 글자씩 출력하세요.\n",
        "\n",
        "a = \"hello\"\n",
        "for i in a:\n",
        "  print(i)"
      ],
      "metadata": {
        "colab": {
          "base_uri": "https://localhost:8080/"
        },
        "id": "9kXfeAwS7u8K",
        "outputId": "eb90f4be-7031-468a-a13e-cd4611f8e87c"
      },
      "execution_count": null,
      "outputs": [
        {
          "output_type": "stream",
          "name": "stdout",
          "text": [
            "h\n",
            "e\n",
            "l\n",
            "l\n",
            "o\n"
          ]
        }
      ]
    },
    {
      "cell_type": "code",
      "source": [
        "# 리스트 [2, 4, 6, 8, 10]에 들어있는 수들의 합계를 구해 출력하세요.\n",
        "\n",
        "list = [2,4,6,8,10]\n",
        "total = 0\n",
        "for i in list:\n",
        "  total += i\n",
        "print(total)"
      ],
      "metadata": {
        "colab": {
          "base_uri": "https://localhost:8080/"
        },
        "id": "AgFiV8ii8DGD",
        "outputId": "8ae3f7b8-3430-41d8-ad4e-4dfd65da2a46"
      },
      "execution_count": null,
      "outputs": [
        {
          "output_type": "stream",
          "name": "stdout",
          "text": [
            "30\n"
          ]
        }
      ]
    },
    {
      "cell_type": "code",
      "source": [
        "# 1부터 10까지 숫자 중에서 짝수만 출력하세요.\n",
        "\n",
        "for i in range(1,11):\n",
        "  if i %2 == 0:\n",
        "    print(i)"
      ],
      "metadata": {
        "colab": {
          "base_uri": "https://localhost:8080/"
        },
        "id": "MaPtm8-N8jK2",
        "outputId": "30f082af-8c4e-4d38-b14d-a83cf7412673"
      },
      "execution_count": null,
      "outputs": [
        {
          "output_type": "stream",
          "name": "stdout",
          "text": [
            "2\n",
            "4\n",
            "6\n",
            "8\n",
            "10\n"
          ]
        }
      ]
    },
    {
      "cell_type": "code",
      "source": [
        "# 리스트 [1, 5, 2, 8, 3, 10]에서 짝수만 골라 새로운 리스트에 담고 출력하세요.\n",
        "\n",
        "nums = [1,5,2,8,3,10]\n",
        "list = []\n",
        "for i in nums:\n",
        "  if i %2 == 0:\n",
        "    list.append(i)\n",
        "print(list)"
      ],
      "metadata": {
        "colab": {
          "base_uri": "https://localhost:8080/"
        },
        "id": "LJiytNBH88KV",
        "outputId": "cb84cf50-4c44-4178-890d-999989d73213"
      },
      "execution_count": null,
      "outputs": [
        {
          "output_type": "stream",
          "name": "stdout",
          "text": [
            "[2, 8, 10]\n"
          ]
        }
      ]
    },
    {
      "cell_type": "code",
      "source": [
        "#두 수의 합 함수\n",
        "#함수명: add(a, b)\n",
        "#설명: 정수 a, b 두 개를 입력받아 그 합을 반환하는 함수를 작성하세요.\n",
        "\n",
        "def add(a,b):\n",
        "  c = a + b\n",
        "  return c\n",
        "\n",
        "add(3,4)"
      ],
      "metadata": {
        "colab": {
          "base_uri": "https://localhost:8080/"
        },
        "id": "rvS2Cf27-NJj",
        "outputId": "711dfceb-83eb-4a0f-c1d3-1e1b9b0ca451"
      },
      "execution_count": null,
      "outputs": [
        {
          "output_type": "execute_result",
          "data": {
            "text/plain": [
              "7"
            ]
          },
          "metadata": {},
          "execution_count": 44
        }
      ]
    },
    {
      "cell_type": "code",
      "source": [
        "#제곱 함수\n",
        "#함수명: square(n)\n",
        "#설명: 정수 n을 입력받아 n의 제곱(n * n)을 반환하는 함수를 작성하세요.\n",
        "\n",
        "def square(n):\n",
        "  return n*n\n",
        "square(5)"
      ],
      "metadata": {
        "colab": {
          "base_uri": "https://localhost:8080/"
        },
        "id": "me0tsLLw_YS-",
        "outputId": "c3c14530-ecd7-4a44-ddf2-97dc214a7d4c"
      },
      "execution_count": null,
      "outputs": [
        {
          "output_type": "execute_result",
          "data": {
            "text/plain": [
              "25"
            ]
          },
          "metadata": {},
          "execution_count": 46
        }
      ]
    },
    {
      "cell_type": "code",
      "source": [
        "#짝수 판별 함수\n",
        "#함수명: is_even(n)\n",
        "#설명: 정수 n을 입력받아 짝수이면 True, 홀수이면 False를 반환하는 함수를 작성하세요.\n",
        "\n",
        "def is_even(n):\n",
        "  if n %2 == 0:\n",
        "    return True\n",
        "  else:\n",
        "    return False\n",
        "is_even(5)\n"
      ],
      "metadata": {
        "colab": {
          "base_uri": "https://localhost:8080/"
        },
        "id": "I6QLND8__3Wj",
        "outputId": "337d9804-8abe-478a-e513-822b7e5abc82"
      },
      "execution_count": null,
      "outputs": [
        {
          "output_type": "execute_result",
          "data": {
            "text/plain": [
              "False"
            ]
          },
          "metadata": {},
          "execution_count": 48
        }
      ]
    },
    {
      "cell_type": "code",
      "source": [
        "#인사 출력 함수\n",
        "#함수명: greet(name)\n",
        "#설명: 문자열 name을 입력받아 \"Hello, {name}!\" 형식으로 인사를 출력하는(프린트하는) 함수를 작성하세요.\n",
        "\n",
        "def greet(name):\n",
        "  print(f\"Hello, {name}!\")\n",
        "\n",
        "greet(\"kim\")"
      ],
      "metadata": {
        "colab": {
          "base_uri": "https://localhost:8080/"
        },
        "id": "V9jOFUfsA5HI",
        "outputId": "b3263353-200a-4267-d4f9-0ba49e9df26a"
      },
      "execution_count": null,
      "outputs": [
        {
          "output_type": "stream",
          "name": "stdout",
          "text": [
            "Hello, kim!\n"
          ]
        }
      ]
    },
    {
      "cell_type": "code",
      "source": [
        "#팩토리얼 함수\n",
        "\n",
        "#함수명: factorial(n)\n",
        "\n",
        "#설명: 자연수 n을 입력받아 n!(팩토리얼)을 반복문을 사용해 계산하여 반환하는 함수를 작성하세요.\n",
        "\n",
        "\n",
        "def factorial(n):\n",
        "  total = 1\n",
        "  for i in range(1,n+1):\n",
        "    total *= i\n",
        "  return total\n",
        "\n",
        "factorial(5)\n",
        "\n"
      ],
      "metadata": {
        "colab": {
          "base_uri": "https://localhost:8080/"
        },
        "id": "mlQH1VxGC6p2",
        "outputId": "3a392124-a862-4aac-cc66-5b99f978f6a6"
      },
      "execution_count": null,
      "outputs": [
        {
          "output_type": "execute_result",
          "data": {
            "text/plain": [
              "120"
            ]
          },
          "metadata": {},
          "execution_count": 54
        }
      ]
    },
    {
      "cell_type": "code",
      "source": [
        "# 양수 합계 구하기\n",
        "# 정수 리스트 nums를 받아 0보다 큰(양수) 값들만 모두 더한 합계를 반환하는 함수 sum_positive(nums)를 작성하세요.\n",
        "# sum_positive([10, -5, 0, 3, -1, 7])\n",
        "\n",
        "sum_positive = [10,-5,0,3,-1,7]\n",
        "total = 0\n",
        "for i in sum_positive:\n",
        "  if i >= 0:\n",
        "    total += i\n",
        "print(total)\n",
        "\n"
      ],
      "metadata": {
        "id": "npYjUuVBHBw6",
        "colab": {
          "base_uri": "https://localhost:8080/"
        },
        "outputId": "4c3a9c4c-3b3d-4abf-a553-84c0f31d41d8"
      },
      "execution_count": null,
      "outputs": [
        {
          "output_type": "stream",
          "name": "stdout",
          "text": [
            "20\n"
          ]
        }
      ]
    },
    {
      "cell_type": "code",
      "source": [
        "# 특정 문자 포함 문자열 필터링\n",
        "# 문자열 리스트 words와 문자 ch를 받아, 각 단어에 ch가 포함된 것만 모아 새 리스트로 반환하는 함수 filter_contains_char(words, ch)를 작성하세요.\n",
        "# fruits = [\"apple\", \"banana\", \"cherry\", \"date\", \"grape\"]\n",
        "\n",
        "fruits = [\"apple\", \"banana\", \"cherry\", \"date\", \"grape\"]\n",
        "a = \"ch\"\n",
        "results = []\n",
        "\n",
        "for i in fruits:\n",
        "  if a in i:\n",
        "    results.append(i)\n",
        "print(results)\n",
        "\n"
      ],
      "metadata": {
        "colab": {
          "base_uri": "https://localhost:8080/"
        },
        "id": "k1Fc1RcYaPVM",
        "outputId": "02b6329e-88f3-4e25-ac52-37e6769ed975"
      },
      "execution_count": null,
      "outputs": [
        {
          "output_type": "stream",
          "name": "stdout",
          "text": [
            "['cherry']\n"
          ]
        }
      ]
    },
    {
      "cell_type": "code",
      "source": [
        "# 양수·음수 개수 세기\n",
        "# 정수 리스트 nums를 받아 양수와 음수의 개수를 튜플 (pos_count, neg_count)로 반환하는 함수 count_pos_neg(nums)를 작성하세요.\n",
        "# (0은 양수·음수 둘 다 아님)\n",
        "# count_pos_neg([10, -5, 0, 3, -1, 7, -8])\n",
        "\n",
        "def count_pos_neg(nums):\n",
        "  pos_count = 0\n",
        "  neg_count = 0\n",
        "  for i in nums:\n",
        "    if i > 0:\n",
        "      pos_count += 1\n",
        "    elif i < 0:\n",
        "      neg_count += 1\n",
        "  return pos_count, neg_count\n",
        "count_pos_neg([10, -5, 0, 3, -1, 7, -8])\n"
      ],
      "metadata": {
        "colab": {
          "base_uri": "https://localhost:8080/"
        },
        "id": "Dpkg1AoYe5qi",
        "outputId": "5ebef2fc-4b28-46f5-813d-5cf71bce0592"
      },
      "execution_count": null,
      "outputs": [
        {
          "output_type": "execute_result",
          "data": {
            "text/plain": [
              "(3, 3)"
            ]
          },
          "metadata": {},
          "execution_count": 7
        }
      ]
    },
    {
      "cell_type": "code",
      "source": [
        "# 2. n으로 나누어 떨어지는 수 필터링\n",
        "# 정수 리스트 nums와 정수 n을 받아, nums 중에서 n으로 나누어 떨어지는 수만 모아 새 리스트를 반환하는 함수 filter_divisible(nums, n)를 작성하세요.\n",
        "\n",
        "def filter_divisible(nums, n):\n",
        "  a = []\n",
        "  for i in nums:\n",
        "    if i %n == 0:\n",
        "      a.append(i)\n",
        "  return a\n",
        "filter_divisible([10,15,20,24],5)\n",
        "\n"
      ],
      "metadata": {
        "colab": {
          "base_uri": "https://localhost:8080/"
        },
        "id": "nV7LRmrWh2dT",
        "outputId": "50dea192-3bf4-4b05-ca59-c99fe3e2dc03"
      },
      "execution_count": null,
      "outputs": [
        {
          "output_type": "execute_result",
          "data": {
            "text/plain": [
              "[10, 15, 20]"
            ]
          },
          "metadata": {},
          "execution_count": 8
        }
      ]
    },
    {
      "cell_type": "code",
      "source": [
        "#고유 문자 개수 세기\n",
        "#문자열 s가 주어질 때, 단 한 번만 등장하는 문자의 개수를 세는 함수 count_unique_chars(s)를 작성하세요.\n",
        "#예시: \"abacdc\" → 결과: 2 (b, d)\n",
        "\n",
        "def count_unique_chars(s):\n",
        "  result = {}\n",
        "  for i in s:\n",
        "    if i in result:\n",
        "      result[i] += 1\n",
        "    else:\n",
        "      result[i] = 1\n",
        "\n",
        "  unique_count = 0\n",
        "  for count in result.values():\n",
        "    if count == 1:\n",
        "      unique_count += 1\n",
        "  return unique_count\n",
        "\n",
        "print(count_unique_chars(\"abbacdc\"))\n"
      ],
      "metadata": {
        "colab": {
          "base_uri": "https://localhost:8080/"
        },
        "id": "A3ZLo5CLk7Nu",
        "outputId": "c27ddab0-6d16-47cb-b30b-d62bb6a6e67c"
      },
      "execution_count": null,
      "outputs": [
        {
          "output_type": "stream",
          "name": "stdout",
          "text": [
            "1\n"
          ]
        }
      ]
    },
    {
      "cell_type": "code",
      "source": [
        "#n으로 나누어 떨어지는 수 필터링\n",
        "#리스트 nums와 정수 n이 주어졌을 때, n으로 나누어떨어지는 값들만 모은 리스트를 반환하는 함수 filter_divisible(nums, n)를 작성하세요.\n",
        "\n",
        "def filter_divisible(nums, n):\n",
        "  result = []\n",
        "  for i in nums:\n",
        "    if i %n == 0:\n",
        "      result.append(i)\n",
        "  return result\n",
        "print(filter_divisible([2,4,6,8,11],2))\n"
      ],
      "metadata": {
        "colab": {
          "base_uri": "https://localhost:8080/"
        },
        "id": "kpngHheBqkxK",
        "outputId": "d4d1d578-9beb-4fbf-a0ac-7d7f539a7a92"
      },
      "execution_count": null,
      "outputs": [
        {
          "output_type": "stream",
          "name": "stdout",
          "text": [
            "[2, 4, 6, 8]\n"
          ]
        }
      ]
    },
    {
      "cell_type": "code",
      "source": [
        "#3최장 고유 부분 문자열\n",
        "#문자열 s가 주어질 때, 중복 문자가 없는 가장 긴 부분 문자열의 길이를 반환하는 함수 length_of_longest_substring(s)를 작성하세요.\n",
        "#예시: \"abcabcbb\" → 3\n",
        "\n",
        "def length_of_longest_substring(s):\n",
        "  char_set = set()\n",
        "  left = 0\n",
        "  max_len = 0\n",
        "\n",
        "  for right in range(len(s)):\n",
        "    while s[right] in char_set:\n",
        "      char_set.remove(s[left])\n",
        "      left += 1\n",
        "    char_set.add(s[right])\n",
        "    max_len = max(max_len, right-left+1)\n",
        "  return max_len\n",
        "print(length_of_longest_substring(\"sdfefdfs\"))\n"
      ],
      "metadata": {
        "colab": {
          "base_uri": "https://localhost:8080/"
        },
        "id": "ATDSKUlMXmRO",
        "outputId": "8175ea39-e433-4d54-acea-26036154113d"
      },
      "execution_count": null,
      "outputs": [
        {
          "output_type": "stream",
          "name": "stdout",
          "text": [
            "4\n"
          ]
        }
      ]
    },
    {
      "cell_type": "code",
      "source": [
        "#4. 섬의 개수 세기\n",
        "#이차원 리스트 grid가 주어질 때, 연결된 '1' 묶음을 섬으로 보고 섬의 개수를 세는 함수 num_islands(grid)를 작성하세요.\n",
        "\n"
      ],
      "metadata": {
        "id": "PeLwX8u0fimJ"
      },
      "execution_count": null,
      "outputs": []
    },
    {
      "cell_type": "code",
      "source": [
        "#5. 좌표 이동 시뮬레이션\n",
        "#문자열 moves가 주어질 때, U, D, L, R 명령에 따라 최종 위치를 반환하는 함수 final_position(moves)를 작성하세요. 초기 위치는 (0, 0)입니다.\n",
        "\n",
        "def final_position(moves):\n",
        "  x,y = 0,0\n",
        "  for i in moves:\n",
        "    if\n"
      ],
      "metadata": {
        "colab": {
          "base_uri": "https://localhost:8080/"
        },
        "id": "kR5S1g_BgHam",
        "outputId": "d826331b-137b-4257-dfba-88658827b883"
      },
      "execution_count": null,
      "outputs": [
        {
          "output_type": "stream",
          "name": "stdout",
          "text": [
            "(-1, 1)\n"
          ]
        }
      ]
    },
    {
      "cell_type": "code",
      "source": [
        "#6. 가장 많이 등장한 숫자\n",
        "#정수 리스트 nums가 주어질 때, 가장 자주 등장한 숫자를 반환하는 함수 most_frequent(nums)를 작성하세요.\n"
      ],
      "metadata": {
        "id": "uKJt64gljH_1"
      },
      "execution_count": null,
      "outputs": []
    },
    {
      "cell_type": "code",
      "source": [
        "import random\n",
        "\n",
        "#축구팀 경기의 우승 횟수와 결과 발표\n",
        "#input으로 팀 생성, done이 나오면 팀 생성 끝\n",
        "#두팀씩 팀 나누기,점수 매기기\n",
        "#이긴 횟수, 무승부 횟수, 진 횟수, 경기 횟수\n",
        "\n",
        "houses = []\n",
        "while True:\n",
        "  house_name = input()\n",
        "  if \"done\" in house_name:\n",
        "    break\n",
        "  else:\n",
        "    houses.append(house_name)\n",
        "print(houses)\n",
        "matches = []\n",
        "for x in range(len(houses)):\n",
        "  for y in range(x+1, len(houses)):\n",
        "    matches.append([houses[x],houses[y]])\n",
        "\n",
        "\n",
        "print(matches)\n",
        "\n",
        "wins = [0] * len(houses)\n",
        "losses = [0] * len(houses)\n",
        "draws = [0] * len(houses)\n",
        "totalmatchplayed = [0] * len(houses)\n",
        "\n",
        "print(wins)\n",
        "print(losses)\n",
        "print(draws)\n",
        "print(totalmatchplayed)\n",
        "\n",
        "for match in matches: # matches : [['123', '456'],['456', '789'],['123', '789']]\n",
        "  team1 = match[0]\n",
        "  team2 = match[1]\n",
        "  print(f\"\\n{team1} vs {team2}\")\n",
        "\n",
        "  goals1 = input(f\"Enter the goals scored by {team1}: \")\n",
        "  goals2 = input(f\"Enter the goals scored by {team2}: \")\n",
        "\n"
      ],
      "metadata": {
        "colab": {
          "base_uri": "https://localhost:8080/"
        },
        "id": "TytJkG-fivRX",
        "outputId": "1495080f-b4fd-4031-d331-82c4366ee8bf"
      },
      "execution_count": null,
      "outputs": [
        {
          "name": "stdout",
          "output_type": "stream",
          "text": [
            "a\n",
            "b\n",
            "c\n",
            "d\n",
            "done\n",
            "['a', 'b', 'c', 'd']\n",
            "[['a', 'b'], ['a', 'c'], ['a', 'd'], ['b', 'c'], ['b', 'd'], ['c', 'd']]\n",
            "[0, 0, 0, 0]\n",
            "[0, 0, 0, 0]\n",
            "[0, 0, 0, 0]\n",
            "[0, 0, 0, 0]\n",
            "\n",
            "a vs b\n",
            "Enter the goals scored by a: 1\n",
            "Enter the goals scored by b: 3\n",
            "\n",
            "a vs c\n",
            "Enter the goals scored by a: 1\n",
            "Enter the goals scored by c: 5\n",
            "\n",
            "a vs d\n",
            "Enter the goals scored by a: 5\n",
            "Enter the goals scored by d: 7\n",
            "\n",
            "b vs c\n",
            "Enter the goals scored by b: 4\n",
            "Enter the goals scored by c: 5\n",
            "\n",
            "b vs d\n",
            "Enter the goals scored by b: 2\n",
            "Enter the goals scored by d: 3\n",
            "\n",
            "c vs d\n",
            "Enter the goals scored by c: 2\n",
            "Enter the goals scored by d: 3\n"
          ]
        }
      ]
    }
  ]
}